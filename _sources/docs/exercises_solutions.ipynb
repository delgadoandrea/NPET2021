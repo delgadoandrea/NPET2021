{
 "cells": [
  {
   "cell_type": "markdown",
   "id": "exact-duration",
   "metadata": {},
   "source": [
    "(launch/thebe)=\n",
    "# Solutions\n",
    "\n",
    "**Task 1**"
   ]
  },
  {
   "cell_type": "code",
   "execution_count": 1,
   "id": "appreciated-blend",
   "metadata": {},
   "outputs": [
    {
     "name": "stdout",
     "output_type": "stream",
     "text": [
      "3 -4 6\n",
      "-42\n"
     ]
    }
   ],
   "source": [
    "n1,n2,n3 = 3,-4,6\n",
    "\n",
    "print(n1,n2,n3)\n",
    "\n",
    "r1 = (2 * n1 + 3 * n2)*2 - 5 *n3\n",
    "print(r1)"
   ]
  },
  {
   "cell_type": "markdown",
   "id": "smooth-steam",
   "metadata": {},
   "source": [
    "**Task 2**"
   ]
  },
  {
   "cell_type": "code",
   "execution_count": 2,
   "id": "paperback-stereo",
   "metadata": {},
   "outputs": [
    {
     "name": "stdout",
     "output_type": "stream",
     "text": [
      "The summation is 459\n",
      "The summation is 459\n"
     ]
    }
   ],
   "source": [
    "total1 = 0\n",
    "total2 = 0\n",
    "\n",
    "for i in range(3,52,3):\n",
    "    total1 = total1 + i\n",
    "    total2 += i # shorter form\n",
    "\n",
    "print(\"The summation is\",total1)\n",
    "print(\"The summation is\",total2)"
   ]
  },
  {
   "cell_type": "markdown",
   "id": "respiratory-thing",
   "metadata": {},
   "source": [
    "**Task 3**"
   ]
  },
  {
   "cell_type": "code",
   "execution_count": 3,
   "id": "romance-conversion",
   "metadata": {},
   "outputs": [
    {
     "name": "stdout",
     "output_type": "stream",
     "text": [
      "Iteration = 1 and n = 1.0\n",
      " T = 1.0\n",
      " Is T less than or equal to 1.99? - True\n",
      "\n",
      "Iteration = 2 and n = 0.5\n",
      " T = 1.5\n",
      " Is T less than or equal to 1.99? - True\n",
      "\n",
      "Iteration = 3 and n = 0.25\n",
      " T = 1.75\n",
      " Is T less than or equal to 1.99? - True\n",
      "\n",
      "Iteration = 4 and n = 0.125\n",
      " T = 1.875\n",
      " Is T less than or equal to 1.99? - True\n",
      "\n",
      "Iteration = 5 and n = 0.0625\n",
      " T = 1.9375\n",
      " Is T less than or equal to 1.99? - True\n",
      "\n",
      "Iteration = 6 and n = 0.03125\n",
      " T = 1.96875\n",
      " Is T less than or equal to 1.99? - True\n",
      "\n",
      "Iteration = 7 and n = 0.015625\n",
      " T = 1.984375\n",
      " Is T less than or equal to 1.99? - True\n",
      "\n",
      "Iteration = 8 and n = 0.0078125\n",
      " T = 1.9921875\n",
      " Is T less than or equal to 1.99? - False\n",
      "\n",
      "\n",
      "The number of terms in the summation: 8\n"
     ]
    }
   ],
   "source": [
    "T = 0\n",
    "n = 2  # this value iteratively will be first halved and then added to the summation T\n",
    "number_of_iteration = 1\n",
    "number_of_terms = 0\n",
    "\n",
    "while T<=1.99:\n",
    "    n = n/2 # half the value of n\n",
    "    print(\"Iteration =\",number_of_iteration,\"and n =\",n)\n",
    "    T = T + n # update the value of T\n",
    "    print(\" T =\",T)\n",
    "    print(\" Is T less than or equal to 1.99? -\",(T<=1.99))\n",
    "    number_of_terms = number_of_terms + 1\n",
    "    number_of_iteration +=1\n",
    "    print()\n",
    "\n",
    "print()\n",
    "print(\"The number of terms in the summation:\",number_of_terms)"
   ]
  }
 ],
 "metadata": {
  "jupytext": {
   "formats": "md:myst",
   "text_representation": {
    "extension": ".md",
    "format_name": "myst",
    "format_version": 0.13,
    "jupytext_version": "1.10.3"
   }
  },
  "kernelspec": {
   "display_name": "Python 3",
   "language": "python",
   "name": "python3"
  },
  "language_info": {
   "codemirror_mode": {
    "name": "ipython",
    "version": 3
   },
   "file_extension": ".py",
   "mimetype": "text/x-python",
   "name": "python",
   "nbconvert_exporter": "python",
   "pygments_lexer": "ipython3",
   "version": "3.9.2"
  },
  "source_map": [
   13,
   20,
   27,
   31,
   41,
   45
  ]
 },
 "nbformat": 4,
 "nbformat_minor": 5
}