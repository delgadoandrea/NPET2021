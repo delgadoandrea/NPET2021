{
 "cells": [
  {
   "cell_type": "markdown",
   "id": "3cb60b41",
   "metadata": {},
   "source": [
    "(about_py)=\n",
    "\n",
    "# Scientific Computing\n",
    "\n",
    "This module is designed to introduce you to the basic commands and tools needed to run your first scientific computing application. We will start with basic commands to execute in a Unix Shell. But before we start, let's get you all set-up.\n",
    "\n",
    "## Setting up your terminal\n",
    "\n",
    "\n",
    "## What is the Unix Shell?\n",
    "\n",
    "## Basic commands for navigation \n",
    "\n",
    "## Working with files and directories\n",
    "\n",
    "## Finding things"
   ]
  }
 ],
 "metadata": {
  "jupytext": {
   "text_representation": {
    "extension": ".md",
    "format_name": "myst"
   }
  },
  "kernelspec": {
   "display_name": "Python 3",
   "language": "python",
   "name": "python3"
  },
  "language_info": {
   "codemirror_mode": {
    "name": "ipython",
    "version": 3
   },
   "file_extension": ".py",
   "mimetype": "text/x-python",
   "name": "python",
   "nbconvert_exporter": "python",
   "pygments_lexer": "ipython3",
   "version": "3.8.10"
  },
  "source_map": [
   10
  ]
 },
 "nbformat": 4,
 "nbformat_minor": 5
}