{
 "cells": [
  {
   "cell_type": "markdown",
   "id": "classical-seafood",
   "metadata": {},
   "source": [
    "(launch/thebe)=\n",
    "# Introduction to the Command Line\n",
    "\n",
    "## What is it?\n",
    "The command line is the text-based interface for the computer's operating system as a powerful alternative to the click-pointer interaction. It is a program that takes in commands and passes them on to the computer's operating system to run. For example, through the command line, you can create or delete files and edit their content. The advantage of using the command line is its power. You can run programs, write scripts to automate common tasks, and combine simple commands to handle difficult tasks. By the end of this session, you should be able to navigate, access, and modify files and folders on your computer - all without a mouse!\n",
    "\n",
    "## Command Line Navigation \n",
    "When using the command line, we refer to folders as *directories*. Files and directories on your computer are organized into a *filesystem*. The *filesysstem* is the tree structure organization of the files and directorates in your computer. Think about it as the *Mac Finder* or *Windows Explorer* without the ability to access directories and files with a click. \n",
    "\n",
    "- The top directory in the filesystem is the *root* directory.\n",
    "\n",
    "- In this nested structure, we refer to directories as *parents* and *childs* according to their position in the tree. The top directory is the *parent* of any other file or directory in the system."
   ]
  },
  {
   "cell_type": "code",
   "execution_count": 1,
   "id": "alive-medicaid",
   "metadata": {},
   "outputs": [],
   "source": [
    "%%bash\n",
    "mkdir new-directory"
   ]
  }
 ],
 "metadata": {
  "jupytext": {
   "formats": "md:myst",
   "text_representation": {
    "extension": ".md",
    "format_name": "myst",
    "format_version": 0.13,
    "jupytext_version": "1.10.3"
   }
  },
  "kernelspec": {
   "display_name": "Python 3",
   "language": "python",
   "name": "python3"
  },
  "language_info": {
   "codemirror_mode": {
    "name": "ipython",
    "version": 3
   },
   "file_extension": ".py",
   "mimetype": "text/x-python",
   "name": "python",
   "nbconvert_exporter": "python",
   "pygments_lexer": "ipython3",
   "version": "3.9.2"
  },
  "source_map": [
   13,
   28
  ]
 },
 "nbformat": 4,
 "nbformat_minor": 5
}