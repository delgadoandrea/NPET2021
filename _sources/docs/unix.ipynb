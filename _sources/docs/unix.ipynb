{
 "cells": [
  {
   "cell_type": "markdown",
   "id": "future-interval",
   "metadata": {},
   "source": [
    "(launch/thebe)=\n",
    "# Introduction to the Command Line\n",
    "\n",
    "This module is designed to introduce you to the basic commands and tools needed to run your first scientific computing application. We will start with basic commands to execute in a Unix Shell.\n",
    "\n",
    "The command line is the text-based interface for the computer's operating system as a powerful alternative to the click-pointer interaction. It is a program that takes in commands and passes them on to the computer's operating system to run. For example, through the command line, you can create or delete files and edit their content. The advantage of using the command line is its power. You can run programs, write scripts to automate common tasks, and combine simple commands to handle difficult tasks. By the end of this session, you should be able to navigate, access, and modify files and folders on your computer - all without a mouse!\n",
    "\n",
    "## Command Line Basics\n",
    "\n",
    "In the terminal, the first thing you see is an **$** symbol. This is called a *shell prompt*, and whenever you see it, it means that the terminal or shell is ready to accepy a command. But what is a command? A *command* is a text-based instruction to the computer to perform a specific task. For example, one of the commands you will use on a daily basis is *ls*.\n",
    "\n",
    "When you type *ls*, the command line looks at the directory you are in, and \"lists\" all the files and directories inside of it. You can try it now for yourself!"
   ]
  },
  {
   "cell_type": "code",
   "execution_count": null,
   "id": "certain-niger",
   "metadata": {},
   "outputs": [],
   "source": [
    "%%bash\n",
    "ls"
   ]
  },
  {
   "cell_type": "markdown",
   "id": "national-tulsa",
   "metadata": {},
   "source": [
    "## Command Line Navigation \n",
    "When using the command line, we refer to folders as *directories*. Files and directories on your computer are organized into a *filesystem*. The *filesystem* is the tree structure organization of the files and directorates in your computer. Think about it as the *Mac Finder* or *Windows Explorer* without the ability to access directories and files with a click. \n",
    "\n",
    "- The top directory in the filesystem is the *root* directory.\n",
    "\n",
    "- In this nested structure, we refer to directories as *parents* and *childs* according to their position in the tree. The top directory is the *parent* of any other file or directory in the system. We are now going to explore a few basic commands to navigate your computer's *filesystem*. \n",
    "\n",
    "The next command we are going to explore is *pwd*. It stands for *print working directory* and it indeed, outputs the name of the directory you are currently in."
   ]
  },
  {
   "cell_type": "code",
   "execution_count": null,
   "id": "toxic-samuel",
   "metadata": {},
   "outputs": [],
   "source": [
    "%%bash\n",
    "pwd"
   ]
  },
  {
   "cell_type": "markdown",
   "id": "subsequent-stick",
   "metadata": {},
   "source": [
    "Our next command is *cd*, which stands for *change directory*."
   ]
  },
  {
   "cell_type": "code",
   "execution_count": null,
   "id": "bulgarian-direction",
   "metadata": {},
   "outputs": [],
   "source": [
    "%%bash\n",
    "cd <folder-name>"
   ]
  },
  {
   "cell_type": "markdown",
   "id": "interesting-girlfriend",
   "metadata": {},
   "source": [
    "*cd* also allows you to navigate deeper into the *filesystem* without having to use it twice. For example, if you want to access *Folder1* inside *FolderA*, you can type"
   ]
  },
  {
   "cell_type": "code",
   "execution_count": null,
   "id": "failing-digest",
   "metadata": {},
   "outputs": [],
   "source": [
    "%%bash\n",
    "cd FolderA/Folder1/"
   ]
  },
  {
   "cell_type": "markdown",
   "id": "amino-flower",
   "metadata": {},
   "source": [
    "A useful tip is to use the *tab* key to autocomplete the name of a given file or folder. It will probably won't work on the web browser environment but you can try it on your Unix terminal. Also, let's say you want to access *Folder2* inside *FolderA* while you are already on *Folder1*, you can go back one level by typyng ../"
   ]
  },
  {
   "cell_type": "code",
   "execution_count": null,
   "id": "offensive-contact",
   "metadata": {},
   "outputs": [],
   "source": [
    "%%bash\n",
    "cd ../Folder2/"
   ]
  },
  {
   "cell_type": "markdown",
   "id": "genetic-volume",
   "metadata": {},
   "source": [
    "##Editing the filesystem\n",
    "\n",
    "You can create a directory by typing"
   ]
  },
  {
   "cell_type": "code",
   "execution_count": null,
   "id": "optical-rover",
   "metadata": {},
   "outputs": [],
   "source": [
    "%%bash\n",
    "mkdir <your-name>"
   ]
  },
  {
   "cell_type": "markdown",
   "id": "macro-removal",
   "metadata": {},
   "source": [
    "to create a file, you can simply do"
   ]
  },
  {
   "cell_type": "code",
   "execution_count": null,
   "id": "other-officer",
   "metadata": {},
   "outputs": [],
   "source": [
    "%%bash\n",
    "touch <filename>"
   ]
  },
  {
   "cell_type": "code",
   "execution_count": null,
   "id": "caring-malta",
   "metadata": {},
   "outputs": [],
   "source": [
    "%%bash\n",
    "for i in a b c;\n",
    "do\n",
    "echo $i\n",
    "done"
   ]
  }
 ],
 "metadata": {
  "jupytext": {
   "formats": "md:myst",
   "text_representation": {
    "extension": ".md",
    "format_name": "myst",
    "format_version": 0.13,
    "jupytext_version": "1.10.3"
   }
  },
  "kernelspec": {
   "display_name": "Python 3",
   "language": "python",
   "name": "python3"
  },
  "source_map": [
   13,
   28,
   31,
   42,
   45,
   48,
   51,
   55,
   58,
   61,
   64,
   70,
   73,
   76,
   81
  ]
 },
 "nbformat": 4,
 "nbformat_minor": 5
}