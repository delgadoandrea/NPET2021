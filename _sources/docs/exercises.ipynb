{
 "cells": [
  {
   "cell_type": "markdown",
   "id": "active-panel",
   "metadata": {},
   "source": [
    "(launch/thebe)=\n",
    "# Exercises\n",
    "\n",
    "## Task 1\n",
    "\n",
    "Define three variables *n1*, *n2*, and *n3*, and set their values to *3*, *-4*, and *6*.\n",
    "\n",
    "Define a new variable *r1*, and set its value to *(2 X n1 + 3 X n2) X 2 - 5 X n3*, where X represents the multiplication operator. \n",
    "\n",
    "The multiplication operator in python (and in many other programming languages) is * .\n",
    "\n",
    "Then, print the value of *r1*. \n",
    "\n",
    "**As you may verify it by yourself,  the result should be -42**."
   ]
  },
  {
   "cell_type": "code",
   "execution_count": null,
   "id": "operating-birmingham",
   "metadata": {},
   "outputs": [],
   "source": [
    "Insert your code here"
   ]
  },
  {
   "cell_type": "markdown",
   "id": "distinct-pension",
   "metadata": {},
   "source": [
    "## Task 2\n",
    "\n",
    "Calculate the value of summation *3+6+9+...+51*, and then print the result.\n",
    "\n",
    "**Your result should be 459.**"
   ]
  },
  {
   "cell_type": "code",
   "execution_count": null,
   "id": "timely-reservoir",
   "metadata": {},
   "outputs": [],
   "source": [
    "Insert your code here"
   ]
  },
  {
   "cell_type": "markdown",
   "id": "environmental-force",
   "metadata": {},
   "source": [
    "## Task 3"
   ]
  },
  {
   "cell_type": "code",
   "execution_count": null,
   "id": "decimal-boards",
   "metadata": {},
   "outputs": [],
   "source": [
    "<a id=\"task3\"></a>\n",
    "<h3> Task 3 </h3>\n",
    "\n",
    "Consider the summation $ T(n) = 1 + \\dfrac{1}{2} + \\dfrac{1}{4}+ \\dfrac{1}{8} + \\cdots + \\dfrac{1}{2^n} $ for some natural number $ n $. \n",
    "\n",
    "Remark that $ T(0) = \\dfrac{1}{2^0} = \\dfrac{1}{1} = 1 $.\n",
    "\n",
    "This summation can be arbitrarily close to $2$. \n",
    "\n",
    "Find the minimum value of $ n $ such that $ T(n) $ is close to $2$ by $ 0.01 $, i.e., $ 2 - T(n) < 0.01 $.\n",
    "\n",
    "In other words, we find the minimum value of $n$ such that $ T(n) > 1.99 $.\n",
    "\n",
    "The operator for \"less than or equal to\" in python is \"$ < = $\".\n"
   ]
  },
  {
   "cell_type": "code",
   "execution_count": null,
   "id": "polished-position",
   "metadata": {},
   "outputs": [],
   "source": [
    "Insert your code here"
   ]
  }
 ],
 "metadata": {
  "jupytext": {
   "formats": "md:myst",
   "text_representation": {
    "extension": ".md",
    "format_name": "myst",
    "format_version": 0.13,
    "jupytext_version": "1.10.3"
   }
  },
  "kernelspec": {
   "display_name": "Python 3",
   "language": "python",
   "name": "python3"
  },
  "source_map": [
   13,
   30,
   32,
   40,
   42,
   45,
   63
  ]
 },
 "nbformat": 4,
 "nbformat_minor": 5
}